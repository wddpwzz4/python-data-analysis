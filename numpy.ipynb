{
 "cells": [
  {
   "cell_type": "markdown",
   "metadata": {},
   "source": [
    "# numpy"
   ]
  },
  {
   "cell_type": "markdown",
   "metadata": {},
   "source": [
    "---\n",
    "**author:** 刘志强\n",
    "\n",
    "**mail:**   liuzhiqiang182@mails.ucas.ac.cn\n",
    "\n",
    "**time:**   2019/4/2\n",
    "\n",
    "*互相学习，互相进步*\n",
    "\n",
    "---"
   ]
  },
  {
   "cell_type": "markdown",
   "metadata": {},
   "source": [
    "## (1) ndarry (N-dimensinal array)"
   ]
  },
  {
   "cell_type": "raw",
   "metadata": {},
   "source": [
    "   ndarry是numpy的核心。"
   ]
  },
  {
   "cell_type": "code",
   "execution_count": 18,
   "metadata": {},
   "outputs": [],
   "source": [
    "import numpy as np"
   ]
  },
  {
   "cell_type": "code",
   "execution_count": 6,
   "metadata": {},
   "outputs": [
    {
     "name": "stdout",
     "output_type": "stream",
     "text": [
      "[1 2 3]\n",
      "[[1 2 3]]\n"
     ]
    }
   ],
   "source": [
    "######define a 1-D array######\n",
    "a1=np.array([1,2,3])\n",
    "a2=np.array([[1,2,3]])\n",
    "print a1\n",
    "print a2"
   ]
  },
  {
   "cell_type": "code",
   "execution_count": 26,
   "metadata": {},
   "outputs": [
    {
     "name": "stdout",
     "output_type": "stream",
     "text": [
      "data framework is: <type 'numpy.ndarray'>\n",
      "the data typeis: int64\n",
      "the rank is:  1\n",
      "the size is: 3\n",
      "the shape is: (3,)\n",
      "the shape is: (1, 3)\n"
     ]
    }
   ],
   "source": [
    "#check the attribute of 'a'\n",
    "print 'data framework is:',type(a1)\n",
    "print 'the data type for a1 is:',a1.dtype\n",
    "print 'the rank is: ',a1.ndim\n",
    "print 'the size is:',a1.size\n",
    "print 'the shape is:',a1.shape\n",
    "print 'the shape is:',a2.shape"
   ]
  },
  {
   "cell_type": "code",
   "execution_count": 30,
   "metadata": {},
   "outputs": [
    {
     "name": "stdout",
     "output_type": "stream",
     "text": [
      "[[1.2+0.j 1.4+0.j]\n",
      " [0.3+0.j 0.5+0.j]]\n",
      "[['a' 'b']\n",
      " ['c' 'd']]\n"
     ]
    }
   ],
   "source": [
    "######define a 2-D array######\n",
    "b1=np.array([[1.2,1.4],[0.3,0.5]],dtype=complex)\n",
    "b2=np.array([['a','b'],['c','d']])\n",
    "print b1\n",
    "print b2"
   ]
  },
  {
   "cell_type": "code",
   "execution_count": 31,
   "metadata": {},
   "outputs": [
    {
     "name": "stdout",
     "output_type": "stream",
     "text": [
      "the data type for b1 is: complex128\n",
      "the data type for b2 is: |S1\n",
      "the rank is:  2\n",
      "the size is: 4\n",
      "the shape is: (2, 2)\n"
     ]
    }
   ],
   "source": [
    "#check the attribute of 'b'\n",
    "print 'the data type for b1 is:',b1.dtype\n",
    "print 'the data type for b2 is:',b2.dtype\n",
    "print 'the rank is: ',b1.ndim\n",
    "print 'the size is:',b1.size\n",
    "print 'the shape is:',b1.shape"
   ]
  },
  {
   "cell_type": "code",
   "execution_count": 64,
   "metadata": {},
   "outputs": [
    {
     "name": "stdout",
     "output_type": "stream",
     "text": [
      "[[0. 0. 0.]\n",
      " [0. 0. 0.]\n",
      " [0. 0. 0.]]\n",
      "[[1. 1. 1.]\n",
      " [1. 1. 1.]\n",
      " [1. 1. 1.]]\n",
      "[[0.21078938 0.99792321 0.7429291 ]\n",
      " [0.49712004 0.59903499 0.98643779]\n",
      " [0.06134171 0.95172967 0.63636694]]\n",
      "--------------------------\n",
      "[0 1 2 3]\n",
      "[4 5 6 7 8 9]\n",
      "[ 1  4  7 10]\n",
      "[0.  0.6 1.2 1.8 2.4 3.  3.6 4.2 4.8 5.4]\n",
      "[[ 0  1  2  3]\n",
      " [ 4  5  6  7]\n",
      " [ 8  9 10 11]]\n",
      "--------------------------\n",
      "[ 0.   2.5  5.   7.5 10. ]\n"
     ]
    }
   ],
   "source": [
    "######create array######\n",
    "print np.zeros((3,3))\n",
    "print np.ones((3,3))\n",
    "print np.random.random((3,3))\n",
    "print '--------------------------'\n",
    "print np.arange(4)\n",
    "print np.arange(4,10)\n",
    "print np.arange(1,12,3)\n",
    "print np.arange(0,6,0.6)\n",
    "print np.arange(0,12).reshape(3,4)\n",
    "print '--------------------------'\n",
    "print np.linspace(0,10,5)"
   ]
  },
  {
   "cell_type": "markdown",
   "metadata": {},
   "source": [
    "## (2) 代数矩阵运算"
   ]
  },
  {
   "cell_type": "raw",
   "metadata": {},
   "source": [
    "  1）在Matlab中矩阵的运算很方便 , 矩阵乘法除法用*和/就行 , 矩阵元素间的运算为.*和./ , 逆为inv(), 伪逆为pinv() .\n",
    "  2）在Fortran中矩阵的乘法为matmul(,),转置为transpose(),逆需要use imsl或其他库。\n",
    "  3）在python numpy中, 矩阵元素乘除为*和/ , 矩阵乘法为np.dot(,)"
   ]
  },
  {
   "cell_type": "code",
   "execution_count": 46,
   "metadata": {},
   "outputs": [
    {
     "name": "stdout",
     "output_type": "stream",
     "text": [
      "[4 5 6 7]\n",
      "[0 1 2 3]\n",
      "------------------\n",
      "[ 8  9 10 11]\n",
      "[ 8 10 12 14]\n",
      "[ 4  6  8 10]\n",
      "[ 0  5 12 21]\n",
      "------------------\n",
      "[0.         4.20735492 5.45578456 0.98784006]\n"
     ]
    }
   ],
   "source": [
    "######element operation#######\n",
    "a1=np.arange(4,8)\n",
    "a2=np.arange(4)\n",
    "print a1\n",
    "print a2\n",
    "print '------------------'\n",
    "print a1+4\n",
    "print a1*2\n",
    "print a1+a2\n",
    "print a1*a2\n",
    "print '------------------'\n",
    "print a1*np.sin(a2)"
   ]
  },
  {
   "cell_type": "code",
   "execution_count": 56,
   "metadata": {},
   "outputs": [
    {
     "name": "stdout",
     "output_type": "stream",
     "text": [
      "[[ 0  2  6]\n",
      " [ 6 20 45]\n",
      " [54 28 16]]\n"
     ]
    }
   ],
   "source": [
    "A=np.arange(0,9).reshape(3,3)\n",
    "B=np.array([[1,2,3],[2,5,9],[9,4,2]])\n",
    "print A*B"
   ]
  },
  {
   "cell_type": "code",
   "execution_count": 63,
   "metadata": {},
   "outputs": [
    {
     "name": "stdout",
     "output_type": "stream",
     "text": [
      "[[20 13 13]\n",
      " [56 46 55]\n",
      " [92 79 97]]\n",
      "[[20 13 13]\n",
      " [56 46 55]\n",
      " [92 79 97]]\n",
      "[[ 24  30  36]\n",
      " [ 69  85 101]\n",
      " [ 24  39  54]]\n",
      "---------------------\n",
      "[[-1.52941176  0.47058824  0.17647059]\n",
      " [ 4.52941176 -1.47058824 -0.17647059]\n",
      " [-2.17647059  0.82352941  0.05882353]]\n",
      "---------------------\n",
      "[12.20928637 -0.36190391 -3.84738246]\n",
      "[[-0.28829306 -0.26117461 -0.15593447]\n",
      " [-0.77757905  0.85368797 -0.68685997]\n",
      " [-0.55880044 -0.4505604   0.70986465]]\n",
      "[[12.20928637  0.          0.        ]\n",
      " [ 0.         -0.36190391  0.        ]\n",
      " [ 0.          0.         -3.84738246]]\n",
      "---------------------\n",
      "[[-5.55555556e-01 -1.66666667e-01  2.22222222e-01]\n",
      " [-5.55555556e-02  1.83880688e-16  5.55555556e-02]\n",
      " [ 4.44444444e-01  1.66666667e-01 -1.11111111e-01]]\n"
     ]
    }
   ],
   "source": [
    "######matrix operation######\n",
    "print np.dot(A,B)\n",
    "print A.dot(B)\n",
    "print np.dot(B,A)\n",
    "print '---------------------'\n",
    "print np.linalg.inv(B)\n",
    "e,v=np.linalg.eig(B)\n",
    "print '---------------------'\n",
    "print e\n",
    "print v\n",
    "print np.diag(e)\n",
    "print '---------------------'\n",
    "print np.linalg.pinv(A)"
   ]
  },
  {
   "cell_type": "raw",
   "metadata": {},
   "source": [
    "  聚合函数，sum、min、max、mean等"
   ]
  },
  {
   "cell_type": "code",
   "execution_count": 66,
   "metadata": {},
   "outputs": [
    {
     "name": "stdout",
     "output_type": "stream",
     "text": [
      "[[0 1 2]\n",
      " [3 4 5]\n",
      " [6 7 8]]\n",
      "36\n",
      "0\n",
      "8\n",
      "2.0\n",
      "0.816496580927726\n"
     ]
    }
   ],
   "source": [
    "######aggregation function######\n",
    "print A\n",
    "print A.sum()\n",
    "print A.min()\n",
    "print A.max()\n",
    "print a.mean()\n",
    "print a.std()"
   ]
  },
  {
   "cell_type": "markdown",
   "metadata": {},
   "source": [
    "## (3) 索引、切片、迭代"
   ]
  },
  {
   "cell_type": "code",
   "execution_count": 69,
   "metadata": {},
   "outputs": [
    {
     "name": "stdout",
     "output_type": "stream",
     "text": [
      "[10 11 12 13 14 15]\n",
      "10 11 15 14\n",
      "[11 13 14]\n"
     ]
    }
   ],
   "source": [
    "######index######\n",
    "a=np.arange(10,16)\n",
    "print a\n",
    "print a[0],a[1],a[-1],a[-2]\n",
    "print a[[1,3,4]]"
   ]
  },
  {
   "cell_type": "code",
   "execution_count": 73,
   "metadata": {},
   "outputs": [
    {
     "name": "stdout",
     "output_type": "stream",
     "text": [
      "[11 12 13 14]\n",
      "[11 13]\n",
      "[10 12 14]\n",
      "[10 12 14]\n",
      "[10 11 12 13 14]\n",
      "-------------------\n",
      "[[10 11 12]\n",
      " [13 14 15]\n",
      " [16 17 18]]\n",
      "[10 11 12]\n",
      "[[10 11]\n",
      " [13 14]]\n",
      "[[10 11]\n",
      " [16 17]]\n"
     ]
    }
   ],
   "source": [
    "######section######\n",
    "A=np.arange(10,19).reshape((3,3))\n",
    "print a[1:5]\n",
    "print a[1:5:2]\n",
    "print a[::2]\n",
    "print a[:5:2]\n",
    "print a[:5:]\n",
    "print '-------------------'\n",
    "print A\n",
    "print A[0,:]\n",
    "print A[0:2,0:2]\n",
    "print A[[0,2],0:2]"
   ]
  },
  {
   "cell_type": "code",
   "execution_count": 81,
   "metadata": {},
   "outputs": [
    {
     "name": "stdout",
     "output_type": "stream",
     "text": [
      "10\n",
      "11\n",
      "12\n",
      "13\n",
      "14\n",
      "15\n",
      "[10 11 12]\n",
      "[13 14 15]\n",
      "[16 17 18]\n",
      "10\n",
      "11\n",
      "12\n",
      "13\n",
      "14\n",
      "15\n",
      "16\n",
      "17\n",
      "18\n",
      "-------------------\n",
      "[13. 14. 15.]\n",
      "[11. 14. 17.]\n",
      "-------------------\n",
      "[[5 5 6]\n",
      " [6 7 7]\n",
      " [8 8 9]]\n",
      "[[5 5 6]\n",
      " [6 7 7]\n",
      " [8 8 9]]\n"
     ]
    }
   ],
   "source": [
    "######iteration######\n",
    "for i in a:\n",
    "    print i\n",
    "for row in A:\n",
    "    print row\n",
    "for item in A.flat:\n",
    "    print item\n",
    "print '-------------------'    \n",
    "print np.apply_along_axis(np.mean,axis=0,arr=A)\n",
    "print np.apply_along_axis(np.mean,axis=1,arr=A)\n",
    "print '-------------------'\n",
    "def f(x):\n",
    "    return x/2\n",
    "print np.apply_along_axis(f,axis=1,arr=A)\n",
    "print np.apply_along_axis(f,axis=0,arr=A)"
   ]
  },
  {
   "cell_type": "markdown",
   "metadata": {},
   "source": [
    "## (4) 条件"
   ]
  },
  {
   "cell_type": "code",
   "execution_count": 84,
   "metadata": {},
   "outputs": [
    {
     "name": "stdout",
     "output_type": "stream",
     "text": [
      "[[False False False False]\n",
      " [False False  True False]\n",
      " [ True  True  True False]\n",
      " [ True  True False  True]]\n",
      "[0.11192502 0.03210371 0.37951122 0.35511741 0.15791806 0.18274546\n",
      " 0.17341374]\n"
     ]
    }
   ],
   "source": [
    "A=np.random.random((4,4))\n",
    "print A<0.5\n",
    "print A[A<0.5]"
   ]
  },
  {
   "cell_type": "markdown",
   "metadata": {},
   "source": [
    "## (5) 形状改变"
   ]
  },
  {
   "cell_type": "code",
   "execution_count": 88,
   "metadata": {},
   "outputs": [
    {
     "name": "stdout",
     "output_type": "stream",
     "text": [
      "initial vector \"a\" [0.19356155 0.21455872 0.44775613 0.20349479 0.35010934 0.03703813\n",
      " 0.83740332 0.32814506 0.24217409 0.52875548 0.95675934 0.44882848]\n",
      "----------------\n",
      "tansform into 3*4 matrix [[0.19356155 0.21455872 0.44775613 0.20349479]\n",
      " [0.35010934 0.03703813 0.83740332 0.32814506]\n",
      " [0.24217409 0.52875548 0.95675934 0.44882848]]\n",
      "----------------\n",
      "back to vector [0.19356155 0.21455872 0.44775613 0.20349479 0.35010934 0.03703813\n",
      " 0.83740332 0.32814506 0.24217409 0.52875548 0.95675934 0.44882848]\n",
      "----------------\n",
      "[[0.19356155 0.35010934 0.24217409]\n",
      " [0.21455872 0.03703813 0.52875548]\n",
      " [0.44775613 0.83740332 0.95675934]\n",
      " [0.20349479 0.32814506 0.44882848]]\n"
     ]
    }
   ],
   "source": [
    "a=np.random.random(12)\n",
    "print 'initial vector \"a\"',a\n",
    "A=a.reshape(3,4)\n",
    "a.shape=(3,4)\n",
    "print '----------------'\n",
    "print 'tansform into 3*4 matrix',a\n",
    "print '----------------'\n",
    "print 'back to vector',a.ravel()\n",
    "a.shape=(12)\n",
    "print '----------------'\n",
    "print A.transpose()"
   ]
  },
  {
   "cell_type": "markdown",
   "metadata": {},
   "source": [
    "## (6) 连接和切分"
   ]
  },
  {
   "cell_type": "code",
   "execution_count": 90,
   "metadata": {},
   "outputs": [
    {
     "name": "stdout",
     "output_type": "stream",
     "text": [
      "[[1. 1. 1.]\n",
      " [1. 1. 1.]\n",
      " [1. 1. 1.]\n",
      " [0. 0. 0.]\n",
      " [0. 0. 0.]\n",
      " [0. 0. 0.]]\n",
      "[[1. 1. 1. 0. 0. 0.]\n",
      " [1. 1. 1. 0. 0. 0.]\n",
      " [1. 1. 1. 0. 0. 0.]]\n"
     ]
    }
   ],
   "source": [
    "######joint######\n",
    "A=np.ones((3,3))\n",
    "B=np.zeros((3,3))\n",
    "print np.vstack((A,B))\n",
    "print np.hstack((A,B))"
   ]
  },
  {
   "cell_type": "code",
   "execution_count": 92,
   "metadata": {},
   "outputs": [
    {
     "name": "stdout",
     "output_type": "stream",
     "text": [
      "[[0 3 6]\n",
      " [1 4 7]\n",
      " [2 5 8]]\n",
      "[[0 1 2]\n",
      " [3 4 5]\n",
      " [6 7 8]]\n"
     ]
    }
   ],
   "source": [
    "a=np.array([0,1,2])\n",
    "b=np.array([3,4,5])\n",
    "c=np.array([6,7,8])\n",
    "print np.column_stack((a,b,c))\n",
    "print np.row_stack((a,b,c))"
   ]
  },
  {
   "cell_type": "code",
   "execution_count": 98,
   "metadata": {},
   "outputs": [
    {
     "name": "stdout",
     "output_type": "stream",
     "text": [
      "[[ 0  1  2  3]\n",
      " [ 4  5  6  7]\n",
      " [ 8  9 10 11]\n",
      " [12 13 14 15]]\n",
      "[[ 0  1]\n",
      " [ 4  5]\n",
      " [ 8  9]\n",
      " [12 13]]\n",
      "[[ 2  3]\n",
      " [ 6  7]\n",
      " [10 11]\n",
      " [14 15]]\n",
      "---------------\n",
      "[[0 1 2 3]\n",
      " [4 5 6 7]]\n",
      "[[ 8  9 10 11]\n",
      " [12 13 14 15]]\n"
     ]
    }
   ],
   "source": [
    "######split######\n",
    "A=np.arange(16).reshape((4,4))\n",
    "[B,C]=np.hsplit(A,2)\n",
    "print A\n",
    "print B\n",
    "print C\n",
    "print '---------------'\n",
    "[B,C]=np.vsplit(A,2)\n",
    "print B\n",
    "print C"
   ]
  },
  {
   "cell_type": "code",
   "execution_count": 104,
   "metadata": {},
   "outputs": [
    {
     "name": "stdout",
     "output_type": "stream",
     "text": [
      "[[ 0]\n",
      " [ 4]\n",
      " [ 8]\n",
      " [12]]\n",
      "[[ 1  2]\n",
      " [ 5  6]\n",
      " [ 9 10]\n",
      " [13 14]]\n",
      "[[ 3]\n",
      " [ 7]\n",
      " [11]\n",
      " [15]]\n"
     ]
    }
   ],
   "source": [
    "[A1,A2,A3]=np.split(A,[1,3],axis=1)\n",
    "print A1\n",
    "print A2\n",
    "print A3"
   ]
  },
  {
   "cell_type": "markdown",
   "metadata": {},
   "source": [
    "## (7) 视图和副本"
   ]
  },
  {
   "cell_type": "code",
   "execution_count": 4,
   "metadata": {},
   "outputs": [
    {
     "name": "stdout",
     "output_type": "stream",
     "text": [
      "[1 2 3 4]\n",
      "[1 2 0 4]\n",
      "[1 2 3 4]\n",
      "[1 2 3 4]\n"
     ]
    }
   ],
   "source": [
    "a=np.array([1,2,3,4])\n",
    "b=a\n",
    "print b\n",
    "a[2]=0\n",
    "print b\n",
    "\n",
    "a=np.array([1,2,3,4])\n",
    "b=a.copy()\n",
    "print b\n",
    "a[2]=0\n",
    "print b"
   ]
  },
  {
   "cell_type": "markdown",
   "metadata": {},
   "source": [
    "## (8) Numpy广播机制"
   ]
  },
  {
   "cell_type": "code",
   "execution_count": 5,
   "metadata": {
    "scrolled": true
   },
   "outputs": [
    {
     "name": "stdout",
     "output_type": "stream",
     "text": [
      "[[ 0  2  4  6]\n",
      " [ 4  6  8 10]\n",
      " [ 8 10 12 14]\n",
      " [12 14 16 18]]\n",
      "[[[ 0  1]\n",
      "  [ 1  2]]\n",
      "\n",
      " [[ 4  5]\n",
      "  [ 5  6]]\n",
      "\n",
      " [[ 8  9]\n",
      "  [ 9 10]]]\n"
     ]
    }
   ],
   "source": [
    "A=np.arange(16).reshape(4,4)\n",
    "b=np.arange(4)\n",
    "print A+b\n",
    "m=np.arange(6).reshape(3,1,2)\n",
    "n=np.arange(6).reshape(3,2,1)\n",
    "print m+n"
   ]
  },
  {
   "cell_type": "markdown",
   "metadata": {},
   "source": [
    "## (9) 结构化数组"
   ]
  },
  {
   "cell_type": "code",
   "execution_count": 13,
   "metadata": {},
   "outputs": [
    {
     "name": "stdout",
     "output_type": "stream",
     "text": [
      "[(1, 'first', 0.5, 1.+2.j) (2, 'second', 1.1, 1.-1.j)]\n",
      "[(1, 'first', 0.5, 1.+2.j) (2, 'second', 1.1, 1.-1.j)]\n"
     ]
    }
   ],
   "source": [
    "s=np.array([(1,'first',0.5,1+2j),(2,'second',1.1,1-1j)],dtype=('i2,a6,f4,c8'))\n",
    "print np.array([(1,'first',0.5,1+2j),(2,'second',1.1,1-1j)],dtype=('i2,a6,f4,c8'))\n",
    "print np.array([(1,'first',0.5,1+2j),(2,'second',1.1,1-1j)],dtype=('int16,a6,float32,complex64'))"
   ]
  },
  {
   "cell_type": "code",
   "execution_count": 17,
   "metadata": {},
   "outputs": [
    {
     "name": "stdout",
     "output_type": "stream",
     "text": [
      "(2, 'second', 1.1, 1.-1.j)\n",
      "['first' 'second']\n",
      "[0.5 1.1]\n"
     ]
    }
   ],
   "source": [
    "print s[1]\n",
    "print s['f1']\n",
    "print s['f2']"
   ]
  },
  {
   "cell_type": "code",
   "execution_count": null,
   "metadata": {},
   "outputs": [],
   "source": []
  }
 ],
 "metadata": {
  "kernelspec": {
   "display_name": "Python 2",
   "language": "python",
   "name": "python2"
  },
  "language_info": {
   "codemirror_mode": {
    "name": "ipython",
    "version": 2
   },
   "file_extension": ".py",
   "mimetype": "text/x-python",
   "name": "python",
   "nbconvert_exporter": "python",
   "pygments_lexer": "ipython2",
   "version": "2.7.16"
  }
 },
 "nbformat": 4,
 "nbformat_minor": 2
}
